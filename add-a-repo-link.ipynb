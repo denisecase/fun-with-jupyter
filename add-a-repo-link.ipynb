{
 "cells": [
  {
   "cell_type": "markdown",
   "id": "8f6ac1b7-8451-452d-bc0a-0f4f84735131",
   "metadata": {},
   "source": [
    "# Denise Case\n",
    "\n",
    "> This example shows how to add a visible, clickable link to your repo to your Jupyter Notebook. "
   ]
  },
  {
   "cell_type": "markdown",
   "id": "e72c4bd9-3eb9-4cfb-8385-e28b2a1aee6e",
   "metadata": {},
   "source": [
    "[https://github.com/denisecase/jupyter-examples](https://github.com/denisecase/jupyter-examples)"
   ]
  },
  {
   "cell_type": "markdown",
   "id": "553ef6b9-8055-4cf6-bee2-37304c481e2f",
   "metadata": {},
   "source": [
    "## How to Add a Viewable, Clickable Link\n",
    "\n",
    "1. Insert a new Markdown cell near the top.\n",
    "1. In the Markdown cell, type `[]()`.\n",
    "1. Be sure you don't put a space between!\n",
    "1. Copy your GitHub repo URL to your clipboard.\n",
    "1. Paste the URL inside the angle brackets.\n",
    "1. Paste the URL inside the parentheses.\n",
    "1. Hit Control Enter to save the cell.\n"
   ]
  },
  {
   "cell_type": "markdown",
   "id": "9923b7f5-144a-4f12-8322-5daf937e5c8d",
   "metadata": {},
   "source": [
    "## More about Markdown Links  \n",
    "\n",
    "- The first part (in brackets) is the display text.\n",
    "- The second part (in the parentheses) is the actual URL. It's kind of like providing a single argument.\n",
    "- Double-click on the Markdown cell above to see an example. \n",
    "- Click on the link to jump to the repo. "
   ]
  },
  {
   "cell_type": "markdown",
   "id": "8307c3b6-9ed4-409d-a0e7-d06f94a60df0",
   "metadata": {},
   "source": [
    "[](## How to Add a Viewable, Clickable Link)"
   ]
  }
 ],
 "metadata": {
  "kernelspec": {
   "display_name": "Python 3 (ipykernel)",
   "language": "python",
   "name": "python3"
  },
  "language_info": {
   "codemirror_mode": {
    "name": "ipython",
    "version": 3
   },
   "file_extension": ".py",
   "mimetype": "text/x-python",
   "name": "python",
   "nbconvert_exporter": "python",
   "pygments_lexer": "ipython3",
   "version": "3.9.12"
  }
 },
 "nbformat": 4,
 "nbformat_minor": 5
}
